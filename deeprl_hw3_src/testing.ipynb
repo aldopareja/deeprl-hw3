{
 "cells": [
  {
   "cell_type": "markdown",
   "metadata": {},
   "source": [
    "# Implements LQR\n",
    "\n",
    "just calls calc_lqr_input to get a control, then executes the control and call calc_lqr_input again on the new state/action, where the action is initialized as the action done before."
   ]
  },
  {
   "cell_type": "code",
   "execution_count": 25,
   "metadata": {
    "collapsed": true
   },
   "outputs": [],
   "source": [
    "from deeprl_hw3.arm_env import TwoLinkArmEnv\n",
    "import numpy as np\n",
    "import time\n",
    "import gym"
   ]
  },
  {
   "cell_type": "code",
   "execution_count": 26,
   "metadata": {
    "scrolled": false
   },
   "outputs": [
    {
     "name": "stderr",
     "output_type": "stream",
     "text": [
      "[2017-04-22 23:31:39,090] Making new env: TwoLinkArm-v0\n",
      "[2017-04-22 23:31:39,093] Making new env: TwoLinkArm-v0\n"
     ]
    }
   ],
   "source": [
    "#params\n",
    "ENV = 'TwoLinkArm-v0'\n",
    "env = gym.make(ENV)\n",
    "sim_env = gym.make(ENV)"
   ]
  },
  {
   "cell_type": "code",
   "execution_count": 27,
   "metadata": {},
   "outputs": [
    {
     "data": {
      "text/plain": [
       "array([ 0.,  0.,  0.,  0.])"
      ]
     },
     "execution_count": 27,
     "metadata": {},
     "output_type": "execute_result"
    }
   ],
   "source": [
    "x = env.reset()\n",
    "sim_env.reset()"
   ]
  },
  {
   "cell_type": "code",
   "execution_count": 28,
   "metadata": {
    "scrolled": true
   },
   "outputs": [
    {
     "name": "stdout",
     "output_type": "stream",
     "text": [
      "[ 2560.  3000.]\n"
     ]
    }
   ],
   "source": [
    "from deeprl_hw3.controllers import approximate_A, approximate_B\n",
    "from scipy.linalg import solve_continuous_are as sol_riccatti\n",
    "# if u is None:\n",
    "u = np.zeros(env.DOF)\n",
    "\n",
    "x = np.hstack((env.q, env.dq))\n",
    "A = approximate_A(sim_env,x,u)\n",
    "B = approximate_B(sim_env,x,u)\n",
    "R = env.R\n",
    "Q = env.Q\n",
    "P = sol_riccatti(A, B, Q, R)\n",
    "K = np.linalg.inv(R).dot(((B.T).dot(P)))\n",
    "u = -K.dot(x-env.goal)\n",
    "print(u)\n"
   ]
  },
  {
   "cell_type": "code",
   "execution_count": 13,
   "metadata": {},
   "outputs": [
    {
     "data": {
      "text/plain": [
       "array([[ 1.],\n",
       "       [ 1.]])"
      ]
     },
     "execution_count": 13,
     "metadata": {},
     "output_type": "execute_result"
    }
   ],
   "source": [
    "A = np.ones((2,2))\n",
    "B = np.array([[1],[0]])\n",
    "A.dot(B)"
   ]
  },
  {
   "cell_type": "code",
   "execution_count": 6,
   "metadata": {},
   "outputs": [
    {
     "name": "stderr",
     "output_type": "stream",
     "text": [
      "[2017-04-22 23:40:57,543] Making new env: TwoLinkArm-v1\n",
      "[2017-04-22 23:40:57,546] Making new env: TwoLinkArm-v1\n"
     ]
    },
    {
     "name": "stdout",
     "output_type": "stream",
     "text": [
      "462\n",
      "[ 2.55508088  2.99875348 -0.00806361  0.00966479]\n",
      "done!\n"
     ]
    }
   ],
   "source": [
    "from deeprl_hw3.arm_env import TwoLinkArmEnv\n",
    "import numpy as np\n",
    "import time\n",
    "import gym\n",
    "from deeprl_hw3.controllers import calc_lqr_input\n",
    "import matplotlib.pyplot as plt\n",
    "\n",
    "#params\n",
    "ENV = 'TwoLinkArm-v1'\n",
    "\n",
    "\n",
    "env = gym.make(ENV)\n",
    "sim_env = gym.make(ENV)\n",
    "\n",
    "state = env.reset()\n",
    "sim_env.reset()\n",
    "\n",
    "done = False\n",
    "i = 0\n",
    "u = np.zeros(env.DOF)\n",
    "while not done:\n",
    "    u = np.zeros(env.DOF)\n",
    "    u = calc_lqr_input(env,sim_env,u)\n",
    "    _,_,done,_= env.step(u)\n",
    "    i+=1\n",
    "    if i % 1000 == 0:\n",
    "        env.render()\n",
    "        print('u',u)\n",
    "        print('state',env.state)\n",
    "        print(done)\n",
    "    if done:\n",
    "        print(i)\n",
    "        print(env.state)\n",
    "        print('done!')"
   ]
  },
  {
   "cell_type": "code",
   "execution_count": 12,
   "metadata": {},
   "outputs": [
    {
     "name": "stderr",
     "output_type": "stream",
     "text": [
      "[2017-04-23 00:03:34,728] Making new env: TwoLinkArm-v0\n",
      "[2017-04-23 00:03:34,731] Making new env: TwoLinkArm-v0\n"
     ]
    },
    {
     "data": {
      "image/png": "[encoded data removed]",
      "text/plain": [
       "<matplotlib.figure.Figure at 0x7f176fc54978>"
      ]
     },
     "metadata": {},
     "output_type": "display_data"
    }
   ],
   "source": [
    "''' implements lqr\n",
    "\n",
    "'''\n",
    "from deeprl_hw3.arm_env import TwoLinkArmEnv\n",
    "import numpy as np\n",
    "import time\n",
    "import gym\n",
    "from deeprl_hw3.controllers import calc_lqr_input\n",
    "import matplotlib.pyplot as plt\n",
    "\n",
    "#params\n",
    "ENV = 'TwoLinkArm-v0'\n",
    "\n",
    "\n",
    "env = gym.make(ENV)\n",
    "sim_env = gym.make(ENV)\n",
    "\n",
    "state = env.reset()\n",
    "sim_env.reset()\n",
    "\n",
    "done = False\n",
    "i = 0\n",
    "u0_list = []\n",
    "u1_list = []\n",
    "q1_list = []\n",
    "q0_list = []\n",
    "q1dot_list = []\n",
    "q0dot_list = []\n",
    "while not done:\n",
    "    u = calc_lqr_input(env,sim_env)\n",
    "    state,_,done,_ = env.step(u)\n",
    "    i+=1\n",
    "    u0_list.append(u[0])\n",
    "    u1_list.append(u[1])\n",
    "    q0_list.append(state[0])\n",
    "    q1_list.append(state[1])\n",
    "    q0dot_list.append(state[2])\n",
    "    q1dot_list.append(state[3])\n",
    "\n",
    "plt.figure(1)\n",
    "plt.subplot(121)\n",
    "plt.plot(u0_list)\n",
    "plt.title('u0')\n",
    "\n",
    "plt.subplot(122)\n",
    "plt.plot(u1_list)\n",
    "plt.title('u1')\n",
    "\n",
    "plt.\n",
    "plt.show()"
   ]
  },
  {
   "cell_type": "markdown",
   "metadata": {},
   "source": [
    "#### till here we creared the environments, now we need to approximate A and B to calculate the opmtimal action\n",
    "\n",
    "##### to do so\n",
    "\n",
    "1. we perturb the states, one dimmension at a time\n",
    "2. with the perturbed state we run the dynamics for a small time\n",
    "3. the results of the simulation in each perturbed state should be averaged and divided by 2 pertb"
   ]
  }
 ],
 "metadata": {
  "kernelspec": {
   "display_name": "Python 3",
   "language": "python",
   "name": "python3"
  },
  "language_info": {
   "codemirror_mode": {
    "name": "ipython",
    "version": 3
   },
   "file_extension": ".py",
   "mimetype": "text/x-python",
   "name": "python",
   "nbconvert_exporter": "python",
   "pygments_lexer": "ipython3",
   "version": "3.6.1"
  }
 },
 "nbformat": 4,
 "nbformat_minor": 2
}
