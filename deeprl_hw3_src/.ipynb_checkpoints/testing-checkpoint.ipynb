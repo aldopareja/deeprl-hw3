{
 "cells": [
  {
   "cell_type": "markdown",
   "metadata": {},
   "source": [
    "# Implements LQR\n",
    "\n",
    "just calls calc_lqr_input to get a control, then executes the control and call calc_lqr_input again on the new state/action, where the action is initialized as the action done before."
   ]
  },
  {
   "cell_type": "code",
   "execution_count": 25,
   "metadata": {
    "collapsed": true
   },
   "outputs": [],
   "source": [
    "from deeprl_hw3.arm_env import TwoLinkArmEnv\n",
    "import numpy as np\n",
    "import time\n",
    "import gym"
   ]
  },
  {
   "cell_type": "code",
   "execution_count": 26,
   "metadata": {
    "scrolled": false
   },
   "outputs": [
    {
     "name": "stderr",
     "output_type": "stream",
     "text": [
      "[2017-04-22 23:31:39,090] Making new env: TwoLinkArm-v0\n",
      "[2017-04-22 23:31:39,093] Making new env: TwoLinkArm-v0\n"
     ]
    }
   ],
   "source": [
    "#params\n",
    "ENV = 'TwoLinkArm-v0'\n",
    "env = gym.make(ENV)\n",
    "sim_env = gym.make(ENV)"
   ]
  },
  {
   "cell_type": "code",
   "execution_count": 27,
   "metadata": {},
   "outputs": [
    {
     "data": {
      "text/plain": [
       "array([ 0.,  0.,  0.,  0.])"
      ]
     },
     "execution_count": 27,
     "metadata": {},
     "output_type": "execute_result"
    }
   ],
   "source": [
    "x = env.reset()\n",
    "sim_env.reset()"
   ]
  },
  {
   "cell_type": "code",
   "execution_count": 28,
   "metadata": {
    "scrolled": true
   },
   "outputs": [
    {
     "name": "stdout",
     "output_type": "stream",
     "text": [
      "[ 2560.  3000.]\n"
     ]
    }
   ],
   "source": [
    "from deeprl_hw3.controllers import approximate_A, approximate_B\n",
    "from scipy.linalg import solve_continuous_are as sol_riccatti\n",
    "# if u is None:\n",
    "u = np.zeros(env.DOF)\n",
    "\n",
    "x = np.hstack((env.q, env.dq))\n",
    "A = approximate_A(sim_env,x,u)\n",
    "B = approximate_B(sim_env,x,u)\n",
    "R = env.R\n",
    "Q = env.Q\n",
    "P = sol_riccatti(A, B, Q, R)\n",
    "K = np.linalg.inv(R).dot(((B.T).dot(P)))\n",
    "u = -K.dot(x-env.goal)\n",
    "print(u)\n"
   ]
  },
  {
   "cell_type": "code",
   "execution_count": 13,
   "metadata": {},
   "outputs": [
    {
     "data": {
      "text/plain": [
       "array([[ 1.],\n",
       "       [ 1.]])"
      ]
     },
     "execution_count": 13,
     "metadata": {},
     "output_type": "execute_result"
    }
   ],
   "source": [
    "A = np.ones((2,2))\n",
    "B = np.array([[1],[0]])\n",
    "A.dot(B)"
   ]
  },
  {
   "cell_type": "code",
   "execution_count": 1,
   "metadata": {},
   "outputs": [
    {
     "name": "stderr",
     "output_type": "stream",
     "text": [
      "[2017-04-22 23:36:06,182] Making new env: TwoLinkArm-v0\n",
      "[2017-04-22 23:36:06,185] Making new env: TwoLinkArm-v0\n"
     ]
    },
    {
     "name": "stdout",
     "output_type": "stream",
     "text": [
      "[ 2560.  3000.]\n",
      "[ 3209.67903166  1888.36085856]\n",
      "[ 2461.02346269  3286.57877826]\n",
      "[ 2011.57136863  2358.62665093]\n",
      "[ 2475.60230123  4010.53278779]\n",
      "[ 2494.42705822  2742.49932284]\n",
      "[ 887.11792692  826.01607641]\n",
      "[-2524.24442826 -3514.54763474]\n",
      "[-9387.04501973 -2298.62269566]\n",
      "[-7044.14561608  2915.74955419]\n",
      "[-461.19570463 -772.59162859]\n",
      "[ 2391.07064126 -3667.12669637]\n",
      "[ 3890.20235467 -4179.68888509]\n",
      "[ 4695.12658822 -5654.96811404]\n",
      "[ 3167.97323559 -5773.23400148]\n",
      "[ 1459.01188179 -4650.89851366]\n",
      "[   15.97763349 -4123.6923771 ]\n",
      "[ -420.3955506 -3051.1739465]\n",
      "[  -64.96388255 -1327.0806177 ]\n",
      "[ 203.36754336  146.17892882]\n",
      "[  178.16977867  1101.20576053]\n",
      "[  -20.42978313  1541.20462372]\n",
      "[ -242.26376913  1554.17279677]\n",
      "[ -406.72865656  1334.78163546]\n",
      "[ -505.44332713  1043.81987597]\n",
      "[-557.24179065  763.11463671]\n",
      "[-582.33842132  525.15499076]\n",
      "[-594.24119031  339.00604929]\n",
      "[-599.66807673  202.62913027]\n",
      "[-600.74847999  108.61975269]\n",
      "[-597.46268765   47.57637878]\n",
      "[-589.21475107   10.55224568]\n",
      "[-575.66037703  -10.20951102]\n",
      "[-556.92873091  -20.45093234]\n",
      "[-533.54763947  -24.35049947]\n",
      "[-506.30401018  -24.6228369 ]\n",
      "[-476.0907116   -22.93075079]\n",
      "[-443.7899059   -20.32594306]\n",
      "[-410.22523463  -17.34055413]\n",
      "[-376.1216109   -14.28102929]\n",
      "[-342.09366091  -11.30562909]\n",
      "[-308.65840127   -8.47436293]\n",
      "[-276.222478    -5.8178916]\n",
      "[-245.11527487   -3.34158055]\n",
      "[-215.59211943   -1.05174702]\n",
      "[-187.83142189    1.03990949]\n",
      "[-161.95513719    2.93346878]\n",
      "[-138.03883197    4.61745277]\n",
      "[-116.1151565     6.08829792]\n",
      "[-96.18032512   7.34601356]\n",
      "[-78.20148784   8.39097428]\n",
      "[-62.12200457   9.2286895 ]\n",
      "[-47.86484935   9.86988156]\n",
      "[-35.33821671  10.32619375]\n",
      "[-24.44078834  10.61461937]\n",
      "[-15.06003389  10.75016263]\n",
      "[ -7.08203808  10.75619035]\n",
      "[ -0.38694197  10.6459664 ]\n",
      "[  5.14076071  10.44222874]\n",
      "[  9.6189126   10.15813731]\n",
      "[ 13.15989092   9.81333639]\n",
      "[ 15.87153098   9.41867523]\n",
      "[ 17.85623929   8.98860584]\n",
      "[ 19.21026701   8.53234127]\n",
      "[ 20.02365887   8.06126555]\n",
      "[ 20.37781582   7.58141025]\n",
      "[ 20.34790332   7.09956491]\n",
      "[ 20.00329076   6.62068729]\n",
      "[ 19.40457623   6.15017495]\n",
      "[ 18.60614997   5.69007538]\n",
      "[ 17.65602085   5.24355441]\n",
      "[ 16.59634174   4.81258556]\n",
      "[ 15.46254317   4.39880959]\n",
      "[ 14.28667333   4.0030963 ]\n",
      "[ 13.09402113   3.62674523]\n",
      "[ 11.90671685   3.27017187]\n",
      "[ 10.7424381    2.93328795]\n",
      "[ 9.61578608  2.61644741]\n",
      "[ 8.53746431  2.31953881]\n",
      "[ 7.51602788  2.04228938]\n",
      "[ 6.5575903   1.78463418]\n",
      "[ 5.66587868  1.54592899]\n",
      "[ 4.84320595  1.32580005]\n",
      "[ 4.09018252  1.12350928]\n",
      "[ 3.40629092  0.93858734]\n",
      "[ 2.79004537  0.77018322]\n",
      "[ 2.23910804  0.6176144 ]\n",
      "[ 1.75054526  0.48014382]\n",
      "[ 1.32096316  0.35693982]\n",
      "[ 0.94665978  0.24717043]\n",
      "[ 0.62367749  0.15009295]\n",
      "[ 0.34798015  0.06484479]\n",
      "[ 0.1155737  -0.00940186]\n",
      "[-0.07764368 -0.07343017]\n",
      "[-0.2355384  -0.12808738]\n",
      "[-0.36186472 -0.17403713]\n",
      "[-0.46029824 -0.21213507]\n",
      "[-0.53421501 -0.24304236]\n",
      "[-0.58674363 -0.2673962 ]\n",
      "[-0.62089874 -0.28598554]\n",
      "[-0.63934858 -0.29927385]\n",
      "[-0.64462139 -0.30798999]\n",
      "[-0.63892276 -0.31256733]\n",
      "[-0.62429759 -0.31358573]\n",
      "[-0.60255252 -0.31149816]\n",
      "[-0.57528921 -0.30675807]\n",
      "[-0.54388026 -0.29974   ]\n",
      "[-0.50955376 -0.29087709]\n",
      "[-0.47337524 -0.28044613]\n",
      "[-0.43621802 -0.26879277]\n",
      "[-0.39884049 -0.25618986]\n",
      "[-0.36186046 -0.24286968]\n",
      "[-0.32578607 -0.2290771 ]\n",
      "[-0.29100735 -0.21498816]\n",
      "[-0.25785067 -0.20079382]\n",
      "[-0.22653359 -0.18662764]\n",
      "[-0.19722607 -0.17262882]\n",
      "[-0.17002675 -0.15891199]\n"
     ]
    }
   ],
   "source": [
    "from deeprl_hw3.arm_env import TwoLinkArmEnv\n",
    "import numpy as np\n",
    "import time\n",
    "import gym\n",
    "from deeprl_hw3.controllers import calc_lqr_input\n",
    "\n",
    "#params\n",
    "ENV = 'TwoLinkArm-v0'\n",
    "\n",
    "\n",
    "env = gym.make(ENV)\n",
    "sim_env = gym.make(ENV)\n",
    "\n",
    "state = env.reset()\n",
    "sim_env.reset()\n",
    "\n",
    "done = False\n",
    "i = 0\n",
    "u = np.zeros(env.DOF)\n",
    "while not done:\n",
    "    u = calc_lqr_input(env,sim_env,u)\n",
    "    _,_,done,_= env.step(u)\n",
    "    i+=1\n",
    "    if i % 1000 == 0:\n",
    "        env.render()\n",
    "        print('u',u)\n",
    "        print('state',env.state)\n",
    "        print(done)\n",
    "    if done:\n",
    "        print('done!')"
   ]
  },
  {
   "cell_type": "markdown",
   "metadata": {},
   "source": [
    "#### till here we creared the environments, now we need to approximate A and B to calculate the opmtimal action\n",
    "\n",
    "##### to do so\n",
    "\n",
    "1. we perturb the states, one dimmension at a time\n",
    "2. with the perturbed state we run the dynamics for a small time\n",
    "3. the results of the simulation in each perturbed state should be averaged and divided by 2 pertb"
   ]
  }
 ],
 "metadata": {
  "kernelspec": {
   "display_name": "Python 3",
   "language": "python",
   "name": "python3"
  },
  "language_info": {
   "codemirror_mode": {
    "name": "ipython",
    "version": 3
   },
   "file_extension": ".py",
   "mimetype": "text/x-python",
   "name": "python",
   "nbconvert_exporter": "python",
   "pygments_lexer": "ipython3",
   "version": "3.6.1"
  }
 },
 "nbformat": 4,
 "nbformat_minor": 2
}
